{
 "cells": [
  {
   "cell_type": "code",
   "execution_count": 17,
   "metadata": {},
   "outputs": [],
   "source": [
    "import os\n",
    "import urllib\n",
    "import datetime\n",
    "import pandas as pd\n",
    "import numpy as np"
   ]
  },
  {
   "cell_type": "code",
   "execution_count": 18,
   "metadata": {},
   "outputs": [],
   "source": [
    "# Create path and list website link\n",
    "BATH_PATH = os.path.dirname(os.path.abspath('__file__'))\n",
    "\n",
    "ETC_PATH = os.path.join(BATH_PATH, \"data\")\n",
    "\n",
    "START = datetime.date(2020, 6, 1)\n",
    "\n",
    "END = datetime.date(2022, 3, 1 + 1)\n",
    "\n",
    "webpage = \"https://e-service.cwb.gov.tw/wdps/obs/state.htm\""
   ]
  },
  {
   "cell_type": "markdown",
   "metadata": {},
   "source": [
    "## CWB Meta"
   ]
  },
  {
   "cell_type": "code",
   "execution_count": 19,
   "metadata": {},
   "outputs": [
    {
     "data": {
      "text/html": [
       "<div>\n",
       "<style scoped>\n",
       "    .dataframe tbody tr th:only-of-type {\n",
       "        vertical-align: middle;\n",
       "    }\n",
       "\n",
       "    .dataframe tbody tr th {\n",
       "        vertical-align: top;\n",
       "    }\n",
       "\n",
       "    .dataframe thead th {\n",
       "        text-align: right;\n",
       "    }\n",
       "</style>\n",
       "<table border=\"1\" class=\"dataframe\">\n",
       "  <thead>\n",
       "    <tr style=\"text-align: right;\">\n",
       "      <th></th>\n",
       "      <th>站號</th>\n",
       "      <th>站名</th>\n",
       "      <th>海拔高度(m)</th>\n",
       "      <th>城市</th>\n",
       "      <th>經度</th>\n",
       "      <th>緯度</th>\n",
       "      <th>地址</th>\n",
       "      <th>資料起始日期</th>\n",
       "    </tr>\n",
       "  </thead>\n",
       "  <tbody>\n",
       "    <tr>\n",
       "      <th>0</th>\n",
       "      <td>466850</td>\n",
       "      <td>五分山雷達站</td>\n",
       "      <td>756.0</td>\n",
       "      <td>新北市</td>\n",
       "      <td>121.781205</td>\n",
       "      <td>25.071182</td>\n",
       "      <td>瑞芳區靜安路四段1巷1號</td>\n",
       "      <td>1988-07-01</td>\n",
       "    </tr>\n",
       "    <tr>\n",
       "      <th>1</th>\n",
       "      <td>466880</td>\n",
       "      <td>板橋</td>\n",
       "      <td>9.7</td>\n",
       "      <td>新北市</td>\n",
       "      <td>121.442017</td>\n",
       "      <td>24.997647</td>\n",
       "      <td>板橋區大觀路二段265巷62號</td>\n",
       "      <td>2002-01-01</td>\n",
       "    </tr>\n",
       "    <tr>\n",
       "      <th>2</th>\n",
       "      <td>466900</td>\n",
       "      <td>淡水</td>\n",
       "      <td>19.0</td>\n",
       "      <td>新北市</td>\n",
       "      <td>121.448906</td>\n",
       "      <td>25.164889</td>\n",
       "      <td>淡水區中正東路42巷6號</td>\n",
       "      <td>1942-10-01</td>\n",
       "    </tr>\n",
       "  </tbody>\n",
       "</table>\n",
       "</div>"
      ],
      "text/plain": [
       "       站號      站名  海拔高度(m)   城市          經度         緯度               地址  \\\n",
       "0  466850  五分山雷達站    756.0  新北市  121.781205  25.071182     瑞芳區靜安路四段1巷1號   \n",
       "1  466880      板橋      9.7  新北市  121.442017  24.997647  板橋區大觀路二段265巷62號   \n",
       "2  466900      淡水     19.0  新北市  121.448906  25.164889     淡水區中正東路42巷6號   \n",
       "\n",
       "      資料起始日期  \n",
       "0 1988-07-01  \n",
       "1 2002-01-01  \n",
       "2 1942-10-01  "
      ]
     },
     "execution_count": 19,
     "metadata": {},
     "output_type": "execute_result"
    }
   ],
   "source": [
    "# %% Read webpage\n",
    "# Read html content as DataFrame\n",
    "read_html = pd.read_html(webpage)\n",
    "html_table = read_html[0] # Another table is for removed stations.\n",
    "\n",
    "# Extract columns of station number, station id, altitude (meter), city, lontitude, latitude, and station address\n",
    "html_df = html_table.loc[:, [\"站號\", \"站名\", \"海拔高度(m)\", \"城市\", \"經度\", \"緯度\", \"地址\", \"資料起始日期\"]]\n",
    "html_df[\"資料起始日期\"] = pd.to_datetime(html_df[\"資料起始日期\"])\n",
    "html_df.dropna(inplace=True)\n",
    "\n",
    "# %% Save as csv file \n",
    "# html_df.to_csv(os.path.join(ETC_PATH, \"cwb_meta.csv\"))\n",
    "html_df.head(3)"
   ]
  },
  {
   "cell_type": "markdown",
   "metadata": {},
   "source": [
    "## CWB Downloader "
   ]
  },
  {
   "cell_type": "code",
   "execution_count": 20,
   "metadata": {},
   "outputs": [],
   "source": [
    "def data_downloader(stn, st_name, date, altitude):\n",
    "    st_name = urllib.parse.quote(urllib.parse.quote(st_name))\n",
    "    url = f\"https://e-service.cwb.gov.tw/HistoryDataQuery/DayDataController.do?command=viewMain&station={stn}&stname={st_name}&datepicker={date}&altitude={altitude}\"\n",
    "    data = pd.read_html(url)[1]\n",
    "    data.columns = [i[2] for i in np.array(data.columns)]\n",
    "    data.insert(loc=0, column=\"Date\", value=date)\n",
    "    return data"
   ]
  },
  {
   "cell_type": "code",
   "execution_count": 21,
   "metadata": {},
   "outputs": [
    {
     "data": {
      "text/html": [
       "<div>\n",
       "<style scoped>\n",
       "    .dataframe tbody tr th:only-of-type {\n",
       "        vertical-align: middle;\n",
       "    }\n",
       "\n",
       "    .dataframe tbody tr th {\n",
       "        vertical-align: top;\n",
       "    }\n",
       "\n",
       "    .dataframe thead th {\n",
       "        text-align: right;\n",
       "    }\n",
       "</style>\n",
       "<table border=\"1\" class=\"dataframe\">\n",
       "  <thead>\n",
       "    <tr style=\"text-align: right;\">\n",
       "      <th></th>\n",
       "      <th>站號</th>\n",
       "      <th>站名</th>\n",
       "      <th>海拔高度(m)</th>\n",
       "      <th>城市</th>\n",
       "      <th>經度</th>\n",
       "      <th>緯度</th>\n",
       "      <th>地址</th>\n",
       "      <th>資料起始日期</th>\n",
       "    </tr>\n",
       "  </thead>\n",
       "  <tbody>\n",
       "    <tr>\n",
       "      <th>0</th>\n",
       "      <td>466850</td>\n",
       "      <td>五分山雷達站</td>\n",
       "      <td>756.0</td>\n",
       "      <td>新北市</td>\n",
       "      <td>121.781205</td>\n",
       "      <td>25.071182</td>\n",
       "      <td>瑞芳區靜安路四段1巷1號</td>\n",
       "      <td>1988-07-01</td>\n",
       "    </tr>\n",
       "    <tr>\n",
       "      <th>1</th>\n",
       "      <td>466880</td>\n",
       "      <td>板橋</td>\n",
       "      <td>9.7</td>\n",
       "      <td>新北市</td>\n",
       "      <td>121.442017</td>\n",
       "      <td>24.997647</td>\n",
       "      <td>板橋區大觀路二段265巷62號</td>\n",
       "      <td>2002-01-01</td>\n",
       "    </tr>\n",
       "    <tr>\n",
       "      <th>2</th>\n",
       "      <td>466900</td>\n",
       "      <td>淡水</td>\n",
       "      <td>19.0</td>\n",
       "      <td>新北市</td>\n",
       "      <td>121.448906</td>\n",
       "      <td>25.164889</td>\n",
       "      <td>淡水區中正東路42巷6號</td>\n",
       "      <td>1942-10-01</td>\n",
       "    </tr>\n",
       "  </tbody>\n",
       "</table>\n",
       "</div>"
      ],
      "text/plain": [
       "       站號      站名  海拔高度(m)   城市          經度         緯度               地址  \\\n",
       "0  466850  五分山雷達站    756.0  新北市  121.781205  25.071182     瑞芳區靜安路四段1巷1號   \n",
       "1  466880      板橋      9.7  新北市  121.442017  24.997647  板橋區大觀路二段265巷62號   \n",
       "2  466900      淡水     19.0  新北市  121.448906  25.164889     淡水區中正東路42巷6號   \n",
       "\n",
       "      資料起始日期  \n",
       "0 1988-07-01  \n",
       "1 2002-01-01  \n",
       "2 1942-10-01  "
      ]
     },
     "execution_count": 21,
     "metadata": {},
     "output_type": "execute_result"
    }
   ],
   "source": [
    "# Only keep stations have radiation and the start date is after START\n",
    "html_df = html_df[html_df['站號'].str.contains(\"^46\")].reset_index(drop=True)\n",
    "html_df = html_df[html_df['資料起始日期'] <= pd.to_datetime(START)].reset_index(drop=True)\n",
    "html_df.head(3)"
   ]
  },
  {
   "cell_type": "code",
   "execution_count": 22,
   "metadata": {},
   "outputs": [],
   "source": [
    "# According to the list of stations, access to data\n",
    "for i, row in html_df.iterrows():\n",
    "    delta = pd.date_range(start=START, end=END).tolist()\n",
    "    data = pd.concat([data_downloader(row[\"站號\"], row[\"站名\"], str(date.date()), row[\"海拔高度(m)\"]) for date in delta]).sort_values(['Date', 'ObsTime']).reset_index(drop=True)\n",
    "    data.insert(loc=1, column=\"Station\", value=row[\"站號\"])\n",
    "    data.insert(loc=1, column=\"Lat\", value=row[\"緯度\"])\n",
    "    data.insert(loc=1, column=\"Lon\", value=row[\"經度\"])\n",
    "    data.insert(loc=1, column=\"City\", value=row[\"城市\"])\n",
    "    data.to_csv(os.path.join(ETC_PATH, f'observation(cwb)/{row[\"站號\"]}.csv'), index=False)"
   ]
  }
 ],
 "metadata": {
  "kernelspec": {
   "display_name": "Python 3.9.12 ('tensorflow-gpu')",
   "language": "python",
   "name": "python3"
  },
  "language_info": {
   "codemirror_mode": {
    "name": "ipython",
    "version": 3
   },
   "file_extension": ".py",
   "mimetype": "text/x-python",
   "name": "python",
   "nbconvert_exporter": "python",
   "pygments_lexer": "ipython3",
   "version": "3.9.12"
  },
  "orig_nbformat": 4,
  "vscode": {
   "interpreter": {
    "hash": "1fe34f43cecd3b1506669e990de3780e558c5eb6715cb313146f8f61288c7aab"
   }
  }
 },
 "nbformat": 4,
 "nbformat_minor": 2
}
